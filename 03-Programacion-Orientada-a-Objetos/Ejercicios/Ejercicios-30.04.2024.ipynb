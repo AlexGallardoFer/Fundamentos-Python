{
 "cells": [
  {
   "cell_type": "code",
   "execution_count": 25,
   "metadata": {},
   "outputs": [
    {
     "name": "stdout",
     "output_type": "stream",
     "text": [
      "Cálculo de 2 + 2 = 4.00\n"
     ]
    }
   ],
   "source": [
    "#################################################################################\n",
    "# Requerimientos funcionales:                                                   #\n",
    "#                                                                               #\n",
    "#   -> Retorna el resultado del cálculo solicitado sobre dos números            #\n",
    "#                                                                               #\n",
    "#   args:   posición 0: un número                                               #   \n",
    "#           posición 1: un número                                               #\n",
    "#           posición 2: un texto con la operación a realizar                    #\n",
    "#                       (sum, res, div, mul)                                    #\n",
    "#                                                                               #\n",
    "#   Si no se indica operación a realizar, por defecto se realiza una suma.      #\n",
    "#                                                                               #\n",
    "#   Si alguno de los args no son válidos, indicaremos que la operación no se    #\n",
    "#   puede realizar con el mensaje de Operativa no válida.                       #\n",
    "#                                                                               #\n",
    "#################################################################################\n",
    "operaciones = {\"sum\":\"+\", \"res\":\"-\", \"div\":\"/\", \"mul\":\"*\"}\n",
    "def Calculo(n1, n2, op=\"sum\"):\n",
    "    \n",
    "    if(op == \"sum\"):\n",
    "        return n1 + n2\n",
    "    elif(op == \"res\"):\n",
    "        return n1 - n2\n",
    "    elif(op == \"div\"):\n",
    "        return n1 / n2\n",
    "    elif(op == \"mul\"):\n",
    "        return n1 * n2\n",
    "\n",
    "#################################################################################\n",
    "try:   \n",
    "    while True:\n",
    "        numero1 = input(\"Introduzca el primer número: \")\n",
    "        if(numero1.isdigit()):\n",
    "            break\n",
    "\n",
    "    while True:\n",
    "        numero2 = input(\"Introduzca el segundo número: \")\n",
    "        if(numero2.isdigit()):\n",
    "            break\n",
    "\n",
    "    while True:\n",
    "        op = input(\"Introduzca la operación que desee realizar ['sum'/'res'/'div'/'mul'] (Si no introduce nada se considerará que se quiere sumar)\").lower()\n",
    "        if(op == \"sum\" or op == \"res\" or op == \"div\" or op == \"mul\" or op == \"\"):\n",
    "            break\n",
    "    \n",
    "    if(op == \"\"):\n",
    "        print(f\"Cálculo de {numero1} + {numero2} = {Calculo(int(numero1),int(numero2)):1.2f}\")\n",
    "    else:\n",
    "        print(f\"Cálculo de {numero1} {operaciones[op]} {numero2} = {Calculo(int(numero1),int(numero2), op):1.2f}\")    \n",
    "\n",
    "except Exception as err:\n",
    "    print(f\"Operativa no válida: {err}\")"
   ]
  }
 ],
 "metadata": {
  "kernelspec": {
   "display_name": "Python 3",
   "language": "python",
   "name": "python3"
  },
  "language_info": {
   "codemirror_mode": {
    "name": "ipython",
    "version": 3
   },
   "file_extension": ".py",
   "mimetype": "text/x-python",
   "name": "python",
   "nbconvert_exporter": "python",
   "pygments_lexer": "ipython3",
   "version": "3.12.3"
  }
 },
 "nbformat": 4,
 "nbformat_minor": 2
}
