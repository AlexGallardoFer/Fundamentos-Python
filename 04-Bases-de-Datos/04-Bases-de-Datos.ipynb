{
 "cells": [
  {
   "cell_type": "code",
   "execution_count": null,
   "metadata": {},
   "outputs": [],
   "source": [
    "###################################################\n",
    "# Trabajando con mongoDB                          #\n",
    "###################################################\n",
    "\n",
    "from pymongo import MongoClient, collection\n",
    "from bson.objectid import ObjectId\n",
    "from pprint import pprint\n",
    "import sys, json\n",
    "\n",
    "###################################################\n",
    "# Conectar con un servidor mongoDB                #\n",
    "###################################################\n",
    "\n",
    "#client = MongoClient(\"127.0.0.1\", \"27017\")\n",
    "#client = MongoClient(\"localhost\", \"27017\")\n",
    "#client = MongoClient(\"mongodb://USER:PASSWORD@<IP>:<PORT>/\")\n",
    "#client = MongoClient(\"mongodb://127.0.0.1:27017/\")\n",
    "\n",
    "client = MongoClient(\"mongodb://localhost:27017/\")\n",
    "db = client.admin\n",
    "result = db.command(\"serverStatus\")\n",
    "\n",
    "pprint(result)"
   ]
  }
 ],
 "metadata": {
  "language_info": {
   "name": "python"
  }
 },
 "nbformat": 4,
 "nbformat_minor": 2
}
