{
 "cells": [
  {
   "cell_type": "code",
   "execution_count": null,
   "metadata": {},
   "outputs": [],
   "source": [
    "#################################################\n",
    "# Declaración de Variables                      #\n",
    "#################################################\n",
    "#                                               #\n",
    "# Sintaxis: [nombre variable] = [valor inicial] #\n",
    "#                                               #\n",
    "# Ejemplos:                                     #\n",
    "#   numero = 20                                 #\n",
    "#   saludo = \"Hola Mundo !!!\"                   #\n",
    "#                                               #\n",
    "#################################################\n",
    "\n",
    "\n",
    "# Declaración de variables\n",
    "numero = 10\n",
    "Numero = 20\n",
    "saludo = \"Hola Mundo !!!\"\n",
    "\n",
    "# Mostrar el contenido de las variables\n",
    "print(numero)\n",
    "print(Numero)           # diferencia entre MAYÚSCULAS y minúsculas\n",
    "print(saludo)\n",
    "\n",
    "print(numero + Numero)\n",
    "print(numero - 25)\n",
    "print(\"Saludo: \" + saludo)\n",
    "\n",
    "print(36)\n",
    "print(\"En un lugar de la mancha ...\")\n",
    "print(\"En un lugar de la mancha\\nde cuyo nombre ...\")\n",
    "print(\"\")\n",
    "\n",
    "# Mostrar el tipo de las variables\n",
    "print(type(numero))\n",
    "print(type(saludo))\n",
    "\n",
    "print(type(3))\n",
    "print(type(3.1))\n",
    "print(type(\"3\"))\n",
    "print(type(\"tres\"))\n",
    "print(type(3==3))\n",
    "print(3 == 3)\n",
    "print(type(3!=3))\n",
    "print(3 != 3)\n",
    "print(type(('1', '2', '3')))\n",
    "print(type([\"1\", \"2\", \"3\"]))\n",
    "print(type({\"1\", \"2\", \"3\"}))\n",
    "print(type([1, 2, 3]))"
   ]
  }
 ],
 "metadata": {
  "kernelspec": {
   "display_name": "Python 3",
   "language": "python",
   "name": "python3"
  },
  "language_info": {
   "codemirror_mode": {
    "name": "ipython",
    "version": 3
   },
   "file_extension": ".py",
   "mimetype": "text/x-python",
   "name": "python",
   "nbconvert_exporter": "python",
   "pygments_lexer": "ipython3",
   "version": "3.12.3"
  }
 },
 "nbformat": 4,
 "nbformat_minor": 2
}
