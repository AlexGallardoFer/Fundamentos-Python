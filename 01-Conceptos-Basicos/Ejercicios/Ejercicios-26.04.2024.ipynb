{
 "cells": [
  {
   "cell_type": "code",
   "execution_count": null,
   "metadata": {},
   "outputs": [],
   "source": [
    "# Muestra por pantalla los números comprendidos entre 1 y 10\n",
    "# Utilizando FOR\n",
    "\n",
    "for numero in range(1, 11):\n",
    "    print(numero)"
   ]
  },
  {
   "cell_type": "code",
   "execution_count": null,
   "metadata": {},
   "outputs": [],
   "source": [
    "# Muestra por pantalla los números comprendidos entre 1 y 10\n",
    "# Utilizando WHILE\n",
    "numero = 1\n",
    "while numero < 11:\n",
    "    print(numero)\n",
    "    numero += 1"
   ]
  },
  {
   "cell_type": "code",
   "execution_count": null,
   "metadata": {},
   "outputs": [],
   "source": [
    "# Muestra la tabla de multiplicar de n\n",
    "# Utilizando FOR\n",
    "n = int(input(\"Introduce un número:\"))\n",
    "\n",
    "for index in range(1, 11):\n",
    "    m = index * n\n",
    "    print(f\"{index} x {n} = \", m)"
   ]
  },
  {
   "cell_type": "code",
   "execution_count": null,
   "metadata": {},
   "outputs": [],
   "source": [
    "# Muestra la tabla de multiplicar de n\n",
    "# Utilizando WHILE\n",
    "n = int(input(\"Introduce un número:\"))\n",
    "index = 1\n",
    "\n",
    "while index < 11:\n",
    "    m = index * n\n",
    "    print(f\"{index} x {n} = \", m)\n",
    "    index += 1"
   ]
  },
  {
   "cell_type": "code",
   "execution_count": null,
   "metadata": {},
   "outputs": [],
   "source": [
    "# Muestra por pantalla los números pares comprendidos entre 1 y 10\n",
    "# Solo modificando el FOR\n",
    "for numero in range(2, 11, 2):\n",
    "    print(numero)"
   ]
  },
  {
   "cell_type": "code",
   "execution_count": null,
   "metadata": {},
   "outputs": [],
   "source": [
    "# Muestra por pantalla los números pares comprendidos entre 1 y 10\n",
    "# Solo modificando el bloque FOR\n",
    "for numero in range(1, 11):\n",
    "    if ((numero%2) == 0):\n",
    "        print(numero)"
   ]
  },
  {
   "cell_type": "code",
   "execution_count": null,
   "metadata": {},
   "outputs": [],
   "source": [
    "# TEST función lambda\n",
    "for numero in range(1, 11):\n",
    "    print(numero if numero % 2 == 0 else \"\")"
   ]
  }
 ],
 "metadata": {
  "kernelspec": {
   "display_name": "Python 3",
   "language": "python",
   "name": "python3"
  },
  "language_info": {
   "codemirror_mode": {
    "name": "ipython",
    "version": 3
   },
   "file_extension": ".py",
   "mimetype": "text/x-python",
   "name": "python",
   "nbconvert_exporter": "python",
   "pygments_lexer": "ipython3",
   "version": "3.12.3"
  }
 },
 "nbformat": 4,
 "nbformat_minor": 2
}
