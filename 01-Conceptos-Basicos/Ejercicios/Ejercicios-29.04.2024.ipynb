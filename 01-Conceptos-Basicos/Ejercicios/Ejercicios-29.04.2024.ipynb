{
 "cells": [
  {
   "cell_type": "code",
   "execution_count": null,
   "metadata": {},
   "outputs": [],
   "source": [
    "# Encuentas versión 1\n",
    "\n",
    "# Preguntar Edad (validar)\n",
    "# Preguntar puntuación de 0 a 10 (validar)\n",
    "# Preguntar si es el último encuestado\n",
    "# Con el último encuestado mostra el número de encuentas y la puntuación media\n",
    "\n",
    "esUltimo = False\n",
    "listaPuntuaciones = []\n",
    "puntTotal = 0\n",
    "\n",
    "while(esUltimo == False):\n",
    "    while True:\n",
    "        edad = int(input(\"¿Cual es tu edad?\"))\n",
    "        if (edad >= 0 and edad <= 120):\n",
    "            break\n",
    "    \n",
    "    while True:\n",
    "        puntuacion = int(input(\"¿Cual es tu puntuación?\"))\n",
    "        if (puntuacion >= 0 and puntuacion <= 10):\n",
    "            break\n",
    "\n",
    "    listaPuntuaciones.append(puntuacion)\n",
    "    puntTotal += puntuacion\n",
    "    respuestaUltimo = input(\"¿Eres el último? (S/N)\")\n",
    "    \n",
    "\n",
    "    if(respuestaUltimo.capitalize() == \"S\"):\n",
    "        esUltimo = True\n",
    "        print(f\"Número de encuestas: {len(listaPuntuaciones)}\\n\")\n",
    "        print(f\"La puntuación media es: {puntTotal/len(listaPuntuaciones)}\\n\")\n",
    "\n"
   ]
  }
 ],
 "metadata": {
  "kernelspec": {
   "display_name": "Python 3",
   "language": "python",
   "name": "python3"
  },
  "language_info": {
   "codemirror_mode": {
    "name": "ipython",
    "version": 3
   },
   "file_extension": ".py",
   "mimetype": "text/x-python",
   "name": "python",
   "nbconvert_exporter": "python",
   "pygments_lexer": "ipython3",
   "version": "3.12.3"
  }
 },
 "nbformat": 4,
 "nbformat_minor": 2
}
